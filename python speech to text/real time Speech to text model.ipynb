{
 "cells": [
  {
   "cell_type": "code",
   "execution_count": 1,
   "id": "fe149880",
   "metadata": {},
   "outputs": [
    {
     "name": "stdout",
     "output_type": "stream",
     "text": [
      "Requirement already satisfied: sounddevice in c:\\users\\asus\\anaconda3\\lib\\site-packages (0.4.5)\n",
      "Requirement already satisfied: CFFI>=1.0 in c:\\users\\asus\\anaconda3\\lib\\site-packages (from sounddevice) (1.14.6)\n",
      "Requirement already satisfied: pycparser in c:\\users\\asus\\anaconda3\\lib\\site-packages (from CFFI>=1.0->sounddevice) (2.20)\n",
      "Note: you may need to restart the kernel to use updated packages.\n"
     ]
    }
   ],
   "source": [
    "pip install sounddevice"
   ]
  },
  {
   "cell_type": "code",
   "execution_count": 2,
   "id": "53a7b917",
   "metadata": {},
   "outputs": [],
   "source": [
    "import queue\n",
    "import sounddevice as sd\n",
    "from vosk import Model, KaldiRecognizer\n",
    "import sys\n",
    "import json\n",
    "import numpy as np\n",
    "import csv"
   ]
  },
  {
   "cell_type": "code",
   "execution_count": 3,
   "id": "3272aad3",
   "metadata": {
    "scrolled": true
   },
   "outputs": [
    {
     "name": "stdout",
     "output_type": "stream",
     "text": [
      "Display input/output devices\n",
      "   0 Microsoft Sound Mapper - Input, MME (2 in, 0 out)\n",
      ">  1 Microphone Array (Realtek(R) Au, MME (2 in, 0 out)\n",
      "   2 Microsoft Sound Mapper - Output, MME (0 in, 2 out)\n",
      "<  3 Speakers (7.1 Surround Sound), MME (0 in, 2 out)\n",
      "   4 Speakers (Realtek(R) Audio), MME (0 in, 2 out)\n",
      "   5 Primary Sound Capture Driver, Windows DirectSound (2 in, 0 out)\n",
      "   6 Microphone Array (Realtek(R) Audio), Windows DirectSound (2 in, 0 out)\n",
      "   7 Primary Sound Driver, Windows DirectSound (0 in, 8 out)\n",
      "   8 Speakers (7.1 Surround Sound), Windows DirectSound (0 in, 8 out)\n",
      "   9 Speakers (Realtek(R) Audio), Windows DirectSound (0 in, 2 out)\n",
      "  10 Realtek ASIO, ASIO (2 in, 2 out)\n",
      "  11 Speakers (Realtek(R) Audio), Windows WASAPI (0 in, 2 out)\n",
      "  12 Speakers (7.1 Surround Sound), Windows WASAPI (0 in, 8 out)\n",
      "  13 Microphone Array (Realtek(R) Audio), Windows WASAPI (2 in, 0 out)\n",
      "  14 Headphones (), Windows WDM-KS (0 in, 2 out)\n",
      "  15 Headphones (), Windows WDM-KS (0 in, 2 out)\n",
      "  16 Headphones (), Windows WDM-KS (0 in, 2 out)\n",
      "  17 Headset (@System32\\drivers\\bthhfenum.sys,#2;%1 Hands-Free%0\r\n",
      ";(PTH-01)), Windows WDM-KS (0 in, 1 out)\n",
      "  18 Headset (@System32\\drivers\\bthhfenum.sys,#2;%1 Hands-Free%0\r\n",
      ";(PTH-01)), Windows WDM-KS (1 in, 0 out)\n",
      "  19 Headphones (), Windows WDM-KS (0 in, 2 out)\n",
      "  20 Microphone Array (Realtek HD Audio Mic Array input), Windows WDM-KS (2 in, 0 out)\n",
      "  21 Speakers (Realtek HD Audio output), Windows WDM-KS (0 in, 2 out)\n",
      "  22 Stereo Mix (Realtek HD Audio Stereo input), Windows WDM-KS (2 in, 0 out)\n",
      "  23 Headset (@System32\\drivers\\bthhfenum.sys,#2;%1 Hands-Free%0\r\n",
      ";(Soundcore Motion B)), Windows WDM-KS (0 in, 1 out)\n",
      "  24 Headset (@System32\\drivers\\bthhfenum.sys,#2;%1 Hands-Free%0\r\n",
      ";(Soundcore Motion B)), Windows WDM-KS (1 in, 0 out)\n",
      "  25 Headset (@System32\\drivers\\bthhfenum.sys,#2;%1 Hands-Free%0\r\n",
      ";(S-207)), Windows WDM-KS (0 in, 1 out)\n",
      "  26 Headset (@System32\\drivers\\bthhfenum.sys,#2;%1 Hands-Free%0\r\n",
      ";(S-207)), Windows WDM-KS (1 in, 0 out)\n",
      "  27 Headset (@System32\\drivers\\bthhfenum.sys,#2;%1 Hands-Free%0\r\n",
      ";(AirPods Pro)), Windows WDM-KS (0 in, 1 out)\n",
      "  28 Headset (@System32\\drivers\\bthhfenum.sys,#2;%1 Hands-Free%0\r\n",
      ";(AirPods Pro)), Windows WDM-KS (1 in, 0 out)\n",
      "  29 Speakers 1 (7.1 Surround Sound Wave Speaker Headphone), Windows WDM-KS (0 in, 8 out)\n",
      "  30 Speakers 2 (7.1 Surround Sound Wave Speaker Headphone), Windows WDM-KS (0 in, 2 out)\n",
      "  31 Input (7.1 Surround Sound Wave Speaker Headphone), Windows WDM-KS (8 in, 0 out)\n",
      "  32 Headphones (), Windows WDM-KS (0 in, 2 out)\n",
      "  33 Headset (@System32\\drivers\\bthhfenum.sys,#2;%1 Hands-Free%0\r\n",
      ";(OnePlus Buds)), Windows WDM-KS (0 in, 1 out)\n",
      "  34 Headset (@System32\\drivers\\bthhfenum.sys,#2;%1 Hands-Free%0\r\n",
      ";(OnePlus Buds)), Windows WDM-KS (1 in, 0 out)\n",
      "  35 Headphones (), Windows WDM-KS (0 in, 2 out)\n",
      "  36 Headphones (), Windows WDM-KS (0 in, 2 out)\n",
      "  37 Headset (@System32\\drivers\\bthhfenum.sys,#2;%1 Hands-Free%0\r\n",
      ";(SonicGear BT2100)), Windows WDM-KS (0 in, 1 out)\n",
      "  38 Headset (@System32\\drivers\\bthhfenum.sys,#2;%1 Hands-Free%0\r\n",
      ";(SonicGear BT2100)), Windows WDM-KS (1 in, 0 out)\n"
     ]
    }
   ],
   "source": [
    "#list of all the audio devices known to my system \n",
    "print(\"Display input/output devices\")\n",
    "print(sd.query_devices())"
   ]
  },
  {
   "cell_type": "code",
   "execution_count": 4,
   "id": "9e77febc",
   "metadata": {},
   "outputs": [
    {
     "name": "stdout",
     "output_type": "stream",
     "text": [
      "===> Initial default device Number:1 Description:{'name': 'Microphone Array (Realtek(R) Au', 'index': 1, 'hostapi': 0, 'max_input_channels': 2, 'max_output_channels': 0, 'default_low_input_latency': 0.09, 'default_low_output_latency': 0.09, 'default_high_input_latency': 0.18, 'default_high_output_latency': 0.18, 'default_samplerate': 44100.0}\n"
     ]
    }
   ],
   "source": [
    "#get the sampletate - this is needed bu the kaldi recognizer\n",
    "device_info = sd.query_devices(sd.default.device[0], 'input')\n",
    "samplerate = int(device_info['default_samplerate'])\n",
    "\n",
    "# display the default input device\n",
    "print(\"===> Initial default device Number:{} Description:{}\".format(sd.default.device[0], device_info))"
   ]
  },
  {
   "cell_type": "code",
   "execution_count": 5,
   "id": "2dfb635c",
   "metadata": {},
   "outputs": [],
   "source": [
    "\"\"\"\n",
    "The next step is to create the variable 'q' which is a python ques. After that\n",
    "we define the callbac fnction that will take a chunk of audio data from the \n",
    "microphone and put it on the queue. We'll show how the callback funtion is used \n",
    "soon.\n",
    "\"\"\"\n",
    "\n",
    "#setup queue and callback function\n",
    "q = queue.Queue()\n",
    "\n",
    "def recordCallback(indata, frames, time, status):\n",
    "    if status:\n",
    "        print(status, file=sys.strderr)\n",
    "    q.put(bytes(indata))"
   ]
  },
  {
   "cell_type": "code",
   "execution_count": 6,
   "id": "2816c40b",
   "metadata": {},
   "outputs": [
    {
     "name": "stdout",
     "output_type": "stream",
     "text": [
      "===> Build the model and recognizer objects. This will take a few minutes.\n"
     ]
    }
   ],
   "source": [
    "#build the model and recognizer objects\n",
    "print(\"===> Build the model and recognizer objects. This will take a few minutes.\")\n",
    "model = Model(r\"C:\\Users\\ASUS\\Downloads\\vosk-model-small-en-us-0.15\\vosk-model-small-en-us-0.15\")\n",
    "recognizer = KaldiRecognizer(model, samplerate)\n",
    "recognizer.SetWords(False)"
   ]
  },
  {
   "cell_type": "code",
   "execution_count": 46,
   "id": "7677460b",
   "metadata": {},
   "outputs": [
    {
     "name": "stdout",
     "output_type": "stream",
     "text": [
      "===> Begin recording. Press Ctrl+C to stop the recording\n",
      "\n",
      "no input sound\n",
      "i have a dream that one the\n",
      "down in alabama\n",
      "ricketts vicious racists with it's governor having his lips reaping with the words of into possession and nullification running the right there in alabama\n",
      "little black boys and black girls will be able to join hands with little white boys and white girls sisters and brothers\n",
      "i have a dream to do i have a dream that one day is the valley shall be exhaustive and every he'll and mountain challenging it and even though\n",
      "in the grave in this review our perhaps the most feature in history i sent to every household of my depot both at home\n",
      "i am\n",
      "what i'm calmer months to as you see adelstein and the dark for my reaction and this boy time or about being a result\n",
      "===> Finished Recording\n"
     ]
    }
   ],
   "source": [
    "print(\"===> Begin recording. Press Ctrl+C to stop the recording\")\n",
    "try:\n",
    "    with sd.RawInputStream(dtype='int16',\n",
    "                          channels=1,\n",
    "                          callback=recordCallback):\n",
    "        while True:\n",
    "            data = q.get()\n",
    "            #demo_list =[]\n",
    "            \n",
    "            if recognizer.AcceptWaveform(data):\n",
    "                recognizerResult = recognizer.Result()\n",
    "                # convert the recognizerResult string into a dictionary  \n",
    "                resultDict = json.loads(recognizerResult)\n",
    "                print(resultDict['text'])\n",
    "                if not resultDict.get(\"text\", \"\") == \"\":\n",
    "                    x_test = open(\"test_data_out.csv\", 'a')\n",
    "                    print(resultDict['text'], file = x_test)\n",
    "                    x_test.close()\n",
    "                    \n",
    "                    \n",
    "                else:\n",
    "                    print(\"no input sound\")\n",
    "\n",
    "except KeyboardInterrupt:\n",
    "    print('===> Finished Recording')\n",
    "except Exception as e:\n",
    "    print(str(e))"
   ]
  },
  {
   "cell_type": "code",
   "execution_count": 47,
   "id": "e3da1d69",
   "metadata": {},
   "outputs": [
    {
     "name": "stdout",
     "output_type": "stream",
     "text": [
      "Requirement already satisfied: textblob in c:\\users\\asus\\anaconda3\\lib\\site-packages (0.17.1)\n",
      "Requirement already satisfied: nltk>=3.1 in c:\\users\\asus\\anaconda3\\lib\\site-packages (from textblob) (3.6.5)\n",
      "Requirement already satisfied: click in c:\\users\\asus\\anaconda3\\lib\\site-packages (from nltk>=3.1->textblob) (8.0.3)\n",
      "Requirement already satisfied: joblib in c:\\users\\asus\\anaconda3\\lib\\site-packages (from nltk>=3.1->textblob) (1.1.0)\n",
      "Requirement already satisfied: regex>=2021.8.3 in c:\\users\\asus\\anaconda3\\lib\\site-packages (from nltk>=3.1->textblob) (2021.8.3)\n",
      "Requirement already satisfied: tqdm in c:\\users\\asus\\anaconda3\\lib\\site-packages (from nltk>=3.1->textblob) (4.62.3)\n",
      "Requirement already satisfied: colorama in c:\\users\\asus\\anaconda3\\lib\\site-packages (from click->nltk>=3.1->textblob) (0.4.4)\n"
     ]
    }
   ],
   "source": [
    "!pip install textblob"
   ]
  },
  {
   "cell_type": "code",
   "execution_count": 18,
   "id": "2c559c02",
   "metadata": {},
   "outputs": [
    {
     "name": "stdout",
     "output_type": "stream",
     "text": [
      "Requirement already satisfied: wordcloud in c:\\users\\asus\\anaconda3\\lib\\site-packages (1.8.2.2)\n",
      "Requirement already satisfied: numpy>=1.6.1 in c:\\users\\asus\\anaconda3\\lib\\site-packages (from wordcloud) (1.20.3)\n",
      "Requirement already satisfied: pillow in c:\\users\\asus\\anaconda3\\lib\\site-packages (from wordcloud) (8.4.0)\n",
      "Requirement already satisfied: matplotlib in c:\\users\\asus\\anaconda3\\lib\\site-packages (from wordcloud) (3.4.3)\n",
      "Requirement already satisfied: pyparsing>=2.2.1 in c:\\users\\asus\\anaconda3\\lib\\site-packages (from matplotlib->wordcloud) (3.0.4)\n",
      "Requirement already satisfied: python-dateutil>=2.7 in c:\\users\\asus\\appdata\\roaming\\python\\python39\\site-packages (from matplotlib->wordcloud) (2.8.2)\n",
      "Requirement already satisfied: cycler>=0.10 in c:\\users\\asus\\anaconda3\\lib\\site-packages (from matplotlib->wordcloud) (0.10.0)\n",
      "Requirement already satisfied: kiwisolver>=1.0.1 in c:\\users\\asus\\anaconda3\\lib\\site-packages (from matplotlib->wordcloud) (1.3.1)\n",
      "Requirement already satisfied: six in c:\\users\\asus\\appdata\\roaming\\python\\python39\\site-packages (from cycler>=0.10->matplotlib->wordcloud) (1.16.0)\n"
     ]
    }
   ],
   "source": [
    "!pip install wordcloud"
   ]
  },
  {
   "cell_type": "code",
   "execution_count": 48,
   "id": "9b24d5f2",
   "metadata": {},
   "outputs": [],
   "source": [
    "import pandas as pd\n",
    "import re\n",
    "from textblob import TextBlob\n",
    "from wordcloud import WordCloud\n",
    "import numpy as np \n",
    "import matplotlib.pyplot as plt"
   ]
  },
  {
   "cell_type": "code",
   "execution_count": 49,
   "id": "bbb67b53",
   "metadata": {},
   "outputs": [],
   "source": [
    "df = pd.read_csv(\"test_data_out.csv\")"
   ]
  },
  {
   "cell_type": "code",
   "execution_count": 50,
   "id": "1ce11733",
   "metadata": {},
   "outputs": [
    {
     "data": {
      "text/html": [
       "<div>\n",
       "<style scoped>\n",
       "    .dataframe tbody tr th:only-of-type {\n",
       "        vertical-align: middle;\n",
       "    }\n",
       "\n",
       "    .dataframe tbody tr th {\n",
       "        vertical-align: top;\n",
       "    }\n",
       "\n",
       "    .dataframe thead th {\n",
       "        text-align: right;\n",
       "    }\n",
       "</style>\n",
       "<table border=\"1\" class=\"dataframe\">\n",
       "  <thead>\n",
       "    <tr style=\"text-align: right;\">\n",
       "      <th></th>\n",
       "      <th>i have a dream that one the</th>\n",
       "    </tr>\n",
       "  </thead>\n",
       "  <tbody>\n",
       "    <tr>\n",
       "      <th>0</th>\n",
       "      <td>down in alabama</td>\n",
       "    </tr>\n",
       "  </tbody>\n",
       "</table>\n",
       "</div>"
      ],
      "text/plain": [
       "  i have a dream that one the\n",
       "0             down in alabama"
      ]
     },
     "execution_count": 50,
     "metadata": {},
     "output_type": "execute_result"
    }
   ],
   "source": [
    "df.head(1)"
   ]
  },
  {
   "cell_type": "code",
   "execution_count": 51,
   "id": "c97a980b",
   "metadata": {},
   "outputs": [],
   "source": [
    "df = pd.read_csv(\"test_data_out.csv\", sep='\\t', names = [\"Text\"])"
   ]
  },
  {
   "cell_type": "code",
   "execution_count": 52,
   "id": "5011680f",
   "metadata": {},
   "outputs": [
    {
     "data": {
      "text/html": [
       "<div>\n",
       "<style scoped>\n",
       "    .dataframe tbody tr th:only-of-type {\n",
       "        vertical-align: middle;\n",
       "    }\n",
       "\n",
       "    .dataframe tbody tr th {\n",
       "        vertical-align: top;\n",
       "    }\n",
       "\n",
       "    .dataframe thead th {\n",
       "        text-align: right;\n",
       "    }\n",
       "</style>\n",
       "<table border=\"1\" class=\"dataframe\">\n",
       "  <thead>\n",
       "    <tr style=\"text-align: right;\">\n",
       "      <th></th>\n",
       "      <th>Text</th>\n",
       "    </tr>\n",
       "  </thead>\n",
       "  <tbody>\n",
       "    <tr>\n",
       "      <th>0</th>\n",
       "      <td>i have a dream that one the</td>\n",
       "    </tr>\n",
       "    <tr>\n",
       "      <th>1</th>\n",
       "      <td>down in alabama</td>\n",
       "    </tr>\n",
       "    <tr>\n",
       "      <th>2</th>\n",
       "      <td>ricketts vicious racists with it's governor ha...</td>\n",
       "    </tr>\n",
       "    <tr>\n",
       "      <th>3</th>\n",
       "      <td>little black boys and black girls will be able...</td>\n",
       "    </tr>\n",
       "    <tr>\n",
       "      <th>4</th>\n",
       "      <td>i have a dream to do i have a dream that one d...</td>\n",
       "    </tr>\n",
       "  </tbody>\n",
       "</table>\n",
       "</div>"
      ],
      "text/plain": [
       "                                                Text\n",
       "0                        i have a dream that one the\n",
       "1                                    down in alabama\n",
       "2  ricketts vicious racists with it's governor ha...\n",
       "3  little black boys and black girls will be able...\n",
       "4  i have a dream to do i have a dream that one d..."
      ]
     },
     "execution_count": 52,
     "metadata": {},
     "output_type": "execute_result"
    }
   ],
   "source": [
    "df.head()"
   ]
  },
  {
   "cell_type": "code",
   "execution_count": 53,
   "id": "14d524c9",
   "metadata": {},
   "outputs": [],
   "source": [
    "# Clean the text \n",
    "\n",
    "# Create a function to clean the tweets\n",
    "\n",
    "def cleanTxt(text):\n",
    "    text = re.sub(r'@[A-Za-z0-9]+' , '', text) # Removed @\n",
    "    text = re.sub(r'[0-9\\.]+',' ', text)\n",
    "    text = re.sub(r'#', '', text) #Removed #tags\n",
    "    text = re.sub(r'RT[\\s]+', '', text) #removing RT\n",
    "    text = re.sub(r'https?:\\/\\/\\s', '', text) #removing hyperlinks\n",
    "    text = re.sub(r'[^\\w]', ' ', text)\n",
    "    text = re.sub(r'_', '', text) #remoed _\n",
    "    text = re.sub(r'https', '', text)\n",
    "    text = re.sub(r't', '', text)\n",
    "    text = re.sub(r'co', '', text)\n",
    "    text = text.lower()\n",
    "    return text"
   ]
  },
  {
   "cell_type": "code",
   "execution_count": 54,
   "id": "45b6bc86",
   "metadata": {},
   "outputs": [],
   "source": [
    "df[\"Text\"] = df[\"Text\"].apply(cleanTxt)"
   ]
  },
  {
   "cell_type": "code",
   "execution_count": 55,
   "id": "40569cd6",
   "metadata": {},
   "outputs": [
    {
     "data": {
      "text/html": [
       "<div>\n",
       "<style scoped>\n",
       "    .dataframe tbody tr th:only-of-type {\n",
       "        vertical-align: middle;\n",
       "    }\n",
       "\n",
       "    .dataframe tbody tr th {\n",
       "        vertical-align: top;\n",
       "    }\n",
       "\n",
       "    .dataframe thead th {\n",
       "        text-align: right;\n",
       "    }\n",
       "</style>\n",
       "<table border=\"1\" class=\"dataframe\">\n",
       "  <thead>\n",
       "    <tr style=\"text-align: right;\">\n",
       "      <th></th>\n",
       "      <th>Text</th>\n",
       "    </tr>\n",
       "  </thead>\n",
       "  <tbody>\n",
       "    <tr>\n",
       "      <th>0</th>\n",
       "      <td>i have a dream ha one he</td>\n",
       "    </tr>\n",
       "    <tr>\n",
       "      <th>1</th>\n",
       "      <td>down in alabama</td>\n",
       "    </tr>\n",
       "    <tr>\n",
       "      <th>2</th>\n",
       "      <td>rickes vicious raciss wih i s governor having ...</td>\n",
       "    </tr>\n",
       "    <tr>\n",
       "      <th>3</th>\n",
       "      <td>lile black boys and black girls will be able o...</td>\n",
       "    </tr>\n",
       "    <tr>\n",
       "      <th>4</th>\n",
       "      <td>i have a dream o do i have a dream ha one day ...</td>\n",
       "    </tr>\n",
       "    <tr>\n",
       "      <th>5</th>\n",
       "      <td>in he grave in his review our perhaps he mos f...</td>\n",
       "    </tr>\n",
       "    <tr>\n",
       "      <th>6</th>\n",
       "      <td>i am</td>\n",
       "    </tr>\n",
       "    <tr>\n",
       "      <th>7</th>\n",
       "      <td>wha i m calmer monhs o as you see adelsein and...</td>\n",
       "    </tr>\n",
       "  </tbody>\n",
       "</table>\n",
       "</div>"
      ],
      "text/plain": [
       "                                                Text\n",
       "0                           i have a dream ha one he\n",
       "1                                    down in alabama\n",
       "2  rickes vicious raciss wih i s governor having ...\n",
       "3  lile black boys and black girls will be able o...\n",
       "4  i have a dream o do i have a dream ha one day ...\n",
       "5  in he grave in his review our perhaps he mos f...\n",
       "6                                               i am\n",
       "7  wha i m calmer monhs o as you see adelsein and..."
      ]
     },
     "execution_count": 55,
     "metadata": {},
     "output_type": "execute_result"
    }
   ],
   "source": [
    "data = pd.DataFrame(df[\"Text\"])\n",
    "data"
   ]
  },
  {
   "cell_type": "code",
   "execution_count": 56,
   "id": "0c5ee7c1",
   "metadata": {},
   "outputs": [
    {
     "data": {
      "text/html": [
       "<div>\n",
       "<style scoped>\n",
       "    .dataframe tbody tr th:only-of-type {\n",
       "        vertical-align: middle;\n",
       "    }\n",
       "\n",
       "    .dataframe tbody tr th {\n",
       "        vertical-align: top;\n",
       "    }\n",
       "\n",
       "    .dataframe thead th {\n",
       "        text-align: right;\n",
       "    }\n",
       "</style>\n",
       "<table border=\"1\" class=\"dataframe\">\n",
       "  <thead>\n",
       "    <tr style=\"text-align: right;\">\n",
       "      <th></th>\n",
       "      <th>Text</th>\n",
       "      <th>Subjectivity</th>\n",
       "      <th>Polarity</th>\n",
       "    </tr>\n",
       "  </thead>\n",
       "  <tbody>\n",
       "    <tr>\n",
       "      <th>0</th>\n",
       "      <td>i have a dream ha one he</td>\n",
       "      <td>0.000000</td>\n",
       "      <td>0.000000</td>\n",
       "    </tr>\n",
       "    <tr>\n",
       "      <th>1</th>\n",
       "      <td>down in alabama</td>\n",
       "      <td>0.288889</td>\n",
       "      <td>-0.155556</td>\n",
       "    </tr>\n",
       "    <tr>\n",
       "      <th>2</th>\n",
       "      <td>rickes vicious raciss wih i s governor having ...</td>\n",
       "      <td>1.000000</td>\n",
       "      <td>-1.000000</td>\n",
       "    </tr>\n",
       "    <tr>\n",
       "      <th>3</th>\n",
       "      <td>lile black boys and black girls will be able o...</td>\n",
       "      <td>0.497222</td>\n",
       "      <td>0.055556</td>\n",
       "    </tr>\n",
       "    <tr>\n",
       "      <th>4</th>\n",
       "      <td>i have a dream o do i have a dream ha one day ...</td>\n",
       "      <td>1.000000</td>\n",
       "      <td>0.500000</td>\n",
       "    </tr>\n",
       "    <tr>\n",
       "      <th>5</th>\n",
       "      <td>in he grave in his review our perhaps he mos f...</td>\n",
       "      <td>0.000000</td>\n",
       "      <td>0.000000</td>\n",
       "    </tr>\n",
       "    <tr>\n",
       "      <th>6</th>\n",
       "      <td>i am</td>\n",
       "      <td>0.000000</td>\n",
       "      <td>0.000000</td>\n",
       "    </tr>\n",
       "    <tr>\n",
       "      <th>7</th>\n",
       "      <td>wha i m calmer monhs o as you see adelsein and...</td>\n",
       "      <td>0.400000</td>\n",
       "      <td>-0.150000</td>\n",
       "    </tr>\n",
       "  </tbody>\n",
       "</table>\n",
       "</div>"
      ],
      "text/plain": [
       "                                                Text  Subjectivity  Polarity\n",
       "0                           i have a dream ha one he      0.000000  0.000000\n",
       "1                                    down in alabama      0.288889 -0.155556\n",
       "2  rickes vicious raciss wih i s governor having ...      1.000000 -1.000000\n",
       "3  lile black boys and black girls will be able o...      0.497222  0.055556\n",
       "4  i have a dream o do i have a dream ha one day ...      1.000000  0.500000\n",
       "5  in he grave in his review our perhaps he mos f...      0.000000  0.000000\n",
       "6                                               i am      0.000000  0.000000\n",
       "7  wha i m calmer monhs o as you see adelsein and...      0.400000 -0.150000"
      ]
     },
     "execution_count": 56,
     "metadata": {},
     "output_type": "execute_result"
    }
   ],
   "source": [
    "#Create a function to get the subjectivity \n",
    "def getSubjectivity(text):\n",
    "    return TextBlob(text).sentiment.subjectivity \n",
    "\n",
    "#Create a function to get the Polarity\n",
    "def getPolarity(text):\n",
    "    return TextBlob(text).sentiment.polarity \n",
    "\n",
    "\n",
    "#Create two new column \n",
    "\n",
    "data[\"Subjectivity\"] = data[\"Text\"].apply(getSubjectivity)\n",
    "data[\"Polarity\"] = data[\"Text\"].apply(getPolarity)\n",
    "\n",
    "data.head(15)\n",
    "    "
   ]
  },
  {
   "cell_type": "code",
   "execution_count": 57,
   "id": "91d36c93",
   "metadata": {},
   "outputs": [
    {
     "data": {
      "image/png": "[encoded data removed]",
      "text/plain": [
       "<Figure size 432x288 with 1 Axes>"
      ]
     },
     "metadata": {
      "needs_background": "light"
     },
     "output_type": "display_data"
    }
   ],
   "source": [
    "# plot Wordcloud / TextCloud\n",
    "\n",
    "allwords = ' '.join([twts for twts in data[\"Text\"]])\n",
    "wordCloud = WordCloud(width= 500, height=300, random_state=21, max_font_size = 119).generate(allwords)\n",
    "\n",
    "plt.imshow(wordCloud, interpolation=\"bilinear\")\n",
    "plt.axis(\"off\")\n",
    "plt.show()"
   ]
  },
  {
   "cell_type": "code",
   "execution_count": 58,
   "id": "2de60d21",
   "metadata": {},
   "outputs": [
    {
     "data": {
      "text/html": [
       "<div>\n",
       "<style scoped>\n",
       "    .dataframe tbody tr th:only-of-type {\n",
       "        vertical-align: middle;\n",
       "    }\n",
       "\n",
       "    .dataframe tbody tr th {\n",
       "        vertical-align: top;\n",
       "    }\n",
       "\n",
       "    .dataframe thead th {\n",
       "        text-align: right;\n",
       "    }\n",
       "</style>\n",
       "<table border=\"1\" class=\"dataframe\">\n",
       "  <thead>\n",
       "    <tr style=\"text-align: right;\">\n",
       "      <th></th>\n",
       "      <th>Text</th>\n",
       "      <th>Subjectivity</th>\n",
       "      <th>Polarity</th>\n",
       "      <th>Analysis</th>\n",
       "    </tr>\n",
       "  </thead>\n",
       "  <tbody>\n",
       "    <tr>\n",
       "      <th>0</th>\n",
       "      <td>i have a dream ha one he</td>\n",
       "      <td>0.000000</td>\n",
       "      <td>0.000000</td>\n",
       "      <td>Neutral</td>\n",
       "    </tr>\n",
       "    <tr>\n",
       "      <th>1</th>\n",
       "      <td>down in alabama</td>\n",
       "      <td>0.288889</td>\n",
       "      <td>-0.155556</td>\n",
       "      <td>Negative</td>\n",
       "    </tr>\n",
       "    <tr>\n",
       "      <th>2</th>\n",
       "      <td>rickes vicious raciss wih i s governor having ...</td>\n",
       "      <td>1.000000</td>\n",
       "      <td>-1.000000</td>\n",
       "      <td>Negative</td>\n",
       "    </tr>\n",
       "    <tr>\n",
       "      <th>3</th>\n",
       "      <td>lile black boys and black girls will be able o...</td>\n",
       "      <td>0.497222</td>\n",
       "      <td>0.055556</td>\n",
       "      <td>Positive</td>\n",
       "    </tr>\n",
       "    <tr>\n",
       "      <th>4</th>\n",
       "      <td>i have a dream o do i have a dream ha one day ...</td>\n",
       "      <td>1.000000</td>\n",
       "      <td>0.500000</td>\n",
       "      <td>Positive</td>\n",
       "    </tr>\n",
       "  </tbody>\n",
       "</table>\n",
       "</div>"
      ],
      "text/plain": [
       "                                                Text  Subjectivity  Polarity  \\\n",
       "0                           i have a dream ha one he      0.000000  0.000000   \n",
       "1                                    down in alabama      0.288889 -0.155556   \n",
       "2  rickes vicious raciss wih i s governor having ...      1.000000 -1.000000   \n",
       "3  lile black boys and black girls will be able o...      0.497222  0.055556   \n",
       "4  i have a dream o do i have a dream ha one day ...      1.000000  0.500000   \n",
       "\n",
       "   Analysis  \n",
       "0   Neutral  \n",
       "1  Negative  \n",
       "2  Negative  \n",
       "3  Positive  \n",
       "4  Positive  "
      ]
     },
     "execution_count": 58,
     "metadata": {},
     "output_type": "execute_result"
    }
   ],
   "source": [
    "# Create a function to compute the Sentiment\n",
    "\n",
    "def analysis(score):\n",
    "    if score < 0:\n",
    "        return \"Negative\"\n",
    "    elif score == 0:\n",
    "        return \"Neutral\"\n",
    "    else:\n",
    "        return \"Positive\"\n",
    "    \n",
    "data[\"Analysis\"] = data[\"Polarity\"].apply(analysis)\n",
    "data.head()"
   ]
  },
  {
   "cell_type": "code",
   "execution_count": 59,
   "id": "0275779e",
   "metadata": {},
   "outputs": [
    {
     "data": {
      "text/html": [
       "<style type=\"text/css\">\n",
       "</style>\n",
       "<table id=\"T_b2b50_\">\n",
       "  <thead>\n",
       "    <tr>\n",
       "      <th class=\"blank level0\" >&nbsp;</th>\n",
       "      <th class=\"col_heading level0 col0\" >Analysis</th>\n",
       "    </tr>\n",
       "  </thead>\n",
       "  <tbody>\n",
       "    <tr>\n",
       "      <th id=\"T_b2b50_level0_row0\" class=\"row_heading level0 row0\" >Neutral</th>\n",
       "      <td id=\"T_b2b50_row0_col0\" class=\"data row0 col0\" >37.50%</td>\n",
       "    </tr>\n",
       "    <tr>\n",
       "      <th id=\"T_b2b50_level0_row1\" class=\"row_heading level0 row1\" >Negative</th>\n",
       "      <td id=\"T_b2b50_row1_col0\" class=\"data row1 col0\" >37.50%</td>\n",
       "    </tr>\n",
       "    <tr>\n",
       "      <th id=\"T_b2b50_level0_row2\" class=\"row_heading level0 row2\" >Positive</th>\n",
       "      <td id=\"T_b2b50_row2_col0\" class=\"data row2 col0\" >25.00%</td>\n",
       "    </tr>\n",
       "  </tbody>\n",
       "</table>\n"
      ],
      "text/plain": [
       "<pandas.io.formats.style.Styler at 0x24499544e50>"
      ]
     },
     "execution_count": 59,
     "metadata": {},
     "output_type": "execute_result"
    }
   ],
   "source": [
    "#Show the value content\n",
    "\n",
    "data[\"Analysis\"].value_counts(normalize=True).to_frame().style.format('{:.2%}')"
   ]
  },
  {
   "cell_type": "code",
   "execution_count": 60,
   "id": "b21f3c55",
   "metadata": {},
   "outputs": [
    {
     "data": {
      "image/png": "[encoded data removed]",
      "text/plain": [
       "<Figure size 432x288 with 1 Axes>"
      ]
     },
     "metadata": {
      "needs_background": "light"
     },
     "output_type": "display_data"
    }
   ],
   "source": [
    "#Plot and visualize the counts\n",
    "plt.title(\"Sentiment Analysis\")\n",
    "plt.xlabel(\"Sentiment\")\n",
    "plt.ylabel(\"Scores\")\n",
    "data[\"Analysis\"].value_counts().plot(kind=\"bar\", color=['green', 'blue', 'red'])\n",
    "plt.show()"
   ]
  },
  {
   "cell_type": "code",
   "execution_count": 61,
   "id": "7552d2bc",
   "metadata": {},
   "outputs": [],
   "source": [
    "# Save the final dataset\n",
    "data.to_csv('ashraful.csv')"
   ]
  },
  {
   "cell_type": "code",
   "execution_count": 41,
   "id": "03c2e5a6",
   "metadata": {},
   "outputs": [
    {
     "name": "stdout",
     "output_type": "stream",
     "text": [
      "Accuracuy Score:  0.0\n"
     ]
    }
   ],
   "source": []
  },
  {
   "cell_type": "code",
   "execution_count": null,
   "id": "beaa1639",
   "metadata": {},
   "outputs": [],
   "source": []
  }
 ],
 "metadata": {
  "kernelspec": {
   "display_name": "Python 3 (ipykernel)",
   "language": "python",
   "name": "python3"
  },
  "language_info": {
   "codemirror_mode": {
    "name": "ipython",
    "version": 3
   },
   "file_extension": ".py",
   "mimetype": "text/x-python",
   "name": "python",
   "nbconvert_exporter": "python",
   "pygments_lexer": "ipython3",
   "version": "3.9.7"
  }
 },
 "nbformat": 4,
 "nbformat_minor": 5
}
