{
 "cells": [
  {
   "cell_type": "code",
   "execution_count": 1,
   "id": "ef4481fd",
   "metadata": {},
   "outputs": [],
   "source": [
    "import csv"
   ]
  },
  {
   "cell_type": "code",
   "execution_count": 2,
   "id": "844c0ce9",
   "metadata": {},
   "outputs": [],
   "source": [
    "row_list = [[\"SN\", \"Name\", \"Contribution\"],\n",
    "             [1, \"Linus Torvalds\", \"Linux Kernel\"],\n",
    "             [2, \"Tim Berners-Lee\", \"World Wide Web\"],\n",
    "             [3, \"Guido van Rossum\", \"Python Programming\"]]\n"
   ]
  },
  {
   "cell_type": "code",
   "execution_count": 3,
   "id": "c0aec927",
   "metadata": {},
   "outputs": [],
   "source": [
    "with open('test.csv','w', newline = '') as file:\n",
    "    writer = csv.writer(file)\n",
    "    writer.writerows(row_list)"
   ]
  },
  {
   "cell_type": "code",
   "execution_count": null,
   "id": "dc02c8ac",
   "metadata": {},
   "outputs": [],
   "source": []
  }
 ],
 "metadata": {
  "kernelspec": {
   "display_name": "Python 3 (ipykernel)",
   "language": "python",
   "name": "python3"
  },
  "language_info": {
   "codemirror_mode": {
    "name": "ipython",
    "version": 3
   },
   "file_extension": ".py",
   "mimetype": "text/x-python",
   "name": "python",
   "nbconvert_exporter": "python",
   "pygments_lexer": "ipython3",
   "version": "3.9.7"
  }
 },
 "nbformat": 4,
 "nbformat_minor": 5
}
